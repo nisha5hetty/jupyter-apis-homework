{
 "cells": [
  {
   "cell_type": "markdown",
   "metadata": {},
   "source": [
    "# WeatherAPI (Weather)\n",
    "\n",
    "Answer the following questions using [WeatherAPI](http://www.weatherapi.com/). I've added three cells for most questions but you're free to use more or less! Hold `Shift` and hit `Enter` to run a cell, and use the `+` on the top left to add a new cell to a notebook.\n",
    "\n",
    "Be sure to take advantage of both the documentation and the API Explorer!\n",
    "\n",
    "## 0) Import any libraries you might need\n",
    "\n",
    "- *Tip: We're going to be downloading things from the internet, so we probably need `requests`.*\n",
    "- *Tip: Remember you only need to import requests once!*"
   ]
  },
  {
   "cell_type": "code",
   "execution_count": 2,
   "metadata": {},
   "outputs": [],
   "source": [
    "import requests"
   ]
  },
  {
   "cell_type": "code",
   "execution_count": 50,
   "metadata": {},
   "outputs": [
    {
     "name": "stdout",
     "output_type": "stream",
     "text": [
      "Requirement already satisfied: python-dotenv in /Users/nisha/.pyenv/versions/3.8.10/lib/python3.8/site-packages (0.18.0)\r\n"
     ]
    }
   ],
   "source": [
    "! pip install python-dotenv"
   ]
  },
  {
   "cell_type": "code",
   "execution_count": 51,
   "metadata": {},
   "outputs": [],
   "source": [
    "import os"
   ]
  },
  {
   "cell_type": "code",
   "execution_count": 52,
   "metadata": {},
   "outputs": [],
   "source": [
    "from dotenv import load_dotenv"
   ]
  },
  {
   "cell_type": "code",
   "execution_count": 53,
   "metadata": {},
   "outputs": [
    {
     "data": {
      "text/plain": [
       "True"
      ]
     },
     "execution_count": 53,
     "metadata": {},
     "output_type": "execute_result"
    }
   ],
   "source": [
    "load_dotenv()"
   ]
  },
  {
   "cell_type": "code",
   "execution_count": 56,
   "metadata": {},
   "outputs": [],
   "source": [
    "API_KEY = os.getenv('weather_api_key')"
   ]
  },
  {
   "cell_type": "code",
   "execution_count": null,
   "metadata": {},
   "outputs": [],
   "source": []
  },
  {
   "cell_type": "markdown",
   "metadata": {
    "collapsed": true
   },
   "source": [
    "## 1) Make a request to the Weather API for where you were born (or lived, or want to visit!).\n",
    "\n",
    "- *Tip: This sure seems familiar.*"
   ]
  },
  {
   "cell_type": "code",
   "execution_count": 3,
   "metadata": {},
   "outputs": [
    {
     "name": "stdout",
     "output_type": "stream",
     "text": [
      "{'location': {'name': 'Rome', 'region': 'Lazio', 'country': 'Italy', 'lat': 41.9, 'lon': 12.48, 'tz_id': 'Europe/Rome', 'localtime_epoch': 1624336127, 'localtime': '2021-06-22 6:28'}, 'current': {'last_updated_epoch': 1624335300, 'last_updated': '2021-06-22 06:15', 'temp_c': 21.0, 'temp_f': 69.8, 'is_day': 1, 'condition': {'text': 'Partly cloudy', 'icon': '//cdn.weatherapi.com/weather/64x64/day/116.png', 'code': 1003}, 'wind_mph': 2.5, 'wind_kph': 4.0, 'wind_degree': 37, 'wind_dir': 'NE', 'pressure_mb': 1011.0, 'pressure_in': 30.3, 'precip_mm': 0.0, 'precip_in': 0.0, 'humidity': 74, 'cloud': 2, 'feelslike_c': 21.0, 'feelslike_f': 69.8, 'vis_km': 10.0, 'vis_miles': 6.0, 'uv': 1.0, 'gust_mph': 5.1, 'gust_kph': 8.3}}\n"
     ]
    }
   ],
   "source": [
    "response1 = requests.get(\"http://api.weatherapi.com/v1/current.json?key=API_KEY&q=rome\")\n",
    "rome = response1.json()\n",
    "print(rome)"
   ]
  },
  {
   "cell_type": "code",
   "execution_count": 4,
   "metadata": {},
   "outputs": [
    {
     "name": "stdout",
     "output_type": "stream",
     "text": [
      "dict_keys(['location', 'current'])\n"
     ]
    }
   ],
   "source": [
    "print(rome.keys())"
   ]
  },
  {
   "cell_type": "code",
   "execution_count": null,
   "metadata": {},
   "outputs": [],
   "source": []
  },
  {
   "cell_type": "code",
   "execution_count": null,
   "metadata": {
    "collapsed": true
   },
   "outputs": [],
   "source": []
  },
  {
   "cell_type": "markdown",
   "metadata": {},
   "source": [
    "## 2) What's the current wind speed, and how much warmer does it feel than it actually is?\n",
    "\n",
    "- *Tip: You can do this by browsing through the dictionaries, but it might be easier to read the documentation*\n",
    "- *Tip: For the second half: it **is** one temperature, and it **feels** a different temperature. Calculate the difference. Same as we did last time!*"
   ]
  },
  {
   "cell_type": "code",
   "execution_count": 5,
   "metadata": {},
   "outputs": [
    {
     "name": "stdout",
     "output_type": "stream",
     "text": [
      "The current wind speed in Rome is 2.5mph\n"
     ]
    }
   ],
   "source": [
    "print(f\"The current wind speed in Rome is {rome['current']['wind_mph']}mph\")"
   ]
  },
  {
   "cell_type": "code",
   "execution_count": 6,
   "metadata": {},
   "outputs": [
    {
     "name": "stdout",
     "output_type": "stream",
     "text": [
      "69.8\n",
      "69.8\n"
     ]
    }
   ],
   "source": [
    "current_temp = rome['current']['temp_f']\n",
    "temp_feels = rome['current']['feelslike_f']\n",
    "print(current_temp)\n",
    "print(temp_feels)"
   ]
  },
  {
   "cell_type": "code",
   "execution_count": 7,
   "metadata": {},
   "outputs": [
    {
     "name": "stdout",
     "output_type": "stream",
     "text": [
      "It feels 0°F colder than it actually is\n"
     ]
    }
   ],
   "source": [
    "print(f\"It feels {current_temp - temp_feels:.0f}°F colder than it actually is\")"
   ]
  },
  {
   "cell_type": "markdown",
   "metadata": {},
   "source": [
    "## 3) What is the API endpoint for moon-related information? For the place you decided on above, how much of the moon will be visible on next Thursday?\n",
    "\n",
    "- *Tip: Check the documentation!*\n",
    "- *Tip: If you aren't sure what something means, ask in Slack*"
   ]
  },
  {
   "cell_type": "code",
   "execution_count": 8,
   "metadata": {},
   "outputs": [
    {
     "name": "stdout",
     "output_type": "stream",
     "text": [
      "The API endpoint for moon-related information is http://api.weatherapi.com/v1/astronomy.json?key=9ab04215c0ca4ceb96b191435211606&q=rome&dt=2021-06-20\n"
     ]
    }
   ],
   "source": [
    "moon_url = \"http://api.weatherapi.com/v1/astronomy.json?key=API_KEY&q=rome&dt=2021-06-20\"\n",
    "print(f\"The API endpoint for moon-related information is {moon_url}\")"
   ]
  },
  {
   "cell_type": "code",
   "execution_count": 9,
   "metadata": {},
   "outputs": [],
   "source": [
    "response2 = requests.get(\"http://api.weatherapi.com/v1/astronomy.json?key=API_KEY&q=rome&dt=2021-06-24\")\n",
    "thurs_moon = response2.json()"
   ]
  },
  {
   "cell_type": "code",
   "execution_count": 10,
   "metadata": {},
   "outputs": [
    {
     "name": "stdout",
     "output_type": "stream",
     "text": [
      "{'location': {'name': 'Rome', 'region': 'Lazio', 'country': 'Italy', 'lat': 41.9, 'lon': 12.48, 'tz_id': 'Europe/Rome', 'localtime_epoch': 1624336145, 'localtime': '2021-06-22 6:29'}, 'astronomy': {'astro': {'sunrise': '05:36 AM', 'sunset': '08:49 PM', 'moonrise': '08:56 PM', 'moonset': '04:55 AM', 'moon_phase': 'Full Moon', 'moon_illumination': '100'}}}\n"
     ]
    }
   ],
   "source": [
    "print(f\"{thurs_moon}\")"
   ]
  },
  {
   "cell_type": "code",
   "execution_count": 11,
   "metadata": {},
   "outputs": [
    {
     "name": "stdout",
     "output_type": "stream",
     "text": [
      "100% of the moon will be visible next Thursday\n"
     ]
    }
   ],
   "source": [
    "print(f\"{thurs_moon['astronomy']['astro']['moon_illumination']}% of the moon will be visible next Thursday\")"
   ]
  },
  {
   "cell_type": "code",
   "execution_count": null,
   "metadata": {},
   "outputs": [],
   "source": []
  },
  {
   "cell_type": "markdown",
   "metadata": {},
   "source": [
    "## 4) What's the difference between the high and low temperatures for today?\n",
    "\n",
    "- *Tip: When you requested moon data, you probably overwrote your variables! If so, you'll need to make a new request.*"
   ]
  },
  {
   "cell_type": "code",
   "execution_count": 12,
   "metadata": {},
   "outputs": [],
   "source": [
    "response3 = requests.get(\"http://api.weatherapi.com/v1/forecast.json?key=API_KEY&q=rome\")\n",
    "rome_forecast1 = response3.json()"
   ]
  },
  {
   "cell_type": "code",
   "execution_count": 13,
   "metadata": {},
   "outputs": [],
   "source": [
    "high_temp = rome_forecast1['forecast']['forecastday'][0]['day']['maxtemp_f']\n",
    "low_temp = rome_forecast1['forecast']['forecastday'][0]['day']['mintemp_f']"
   ]
  },
  {
   "cell_type": "code",
   "execution_count": 17,
   "metadata": {},
   "outputs": [
    {
     "name": "stdout",
     "output_type": "stream",
     "text": [
      "The difference between the high and low temperatures for today is 24°F\n"
     ]
    }
   ],
   "source": [
    "print(f\"The difference between the high and low temperatures for today is {round(high_temp - low_temp)}°F\")"
   ]
  },
  {
   "cell_type": "code",
   "execution_count": null,
   "metadata": {
    "collapsed": true
   },
   "outputs": [],
   "source": []
  },
  {
   "cell_type": "markdown",
   "metadata": {
    "collapsed": true
   },
   "source": [
    "## 4.5) How can you avoid the \"oh no I don't have the data any more because I made another request\" problem in the future?\n",
    "\n",
    "What variable(s) do you have to rename, and what would you rename them?"
   ]
  },
  {
   "cell_type": "code",
   "execution_count": 57,
   "metadata": {},
   "outputs": [
    {
     "name": "stdout",
     "output_type": "stream",
     "text": [
      "I named response as response1 (and so on) and response1.json() with a unique name\n"
     ]
    }
   ],
   "source": [
    "print(f\"I named response as response1 (and so on) and response1.json() with a unique name\")\n"
   ]
  },
  {
   "cell_type": "code",
   "execution_count": null,
   "metadata": {},
   "outputs": [],
   "source": []
  },
  {
   "cell_type": "markdown",
   "metadata": {},
   "source": [
    "## 5) Go through the daily forecasts, printing out the next week's worth of predictions.\n",
    "\n",
    "I'd like to know the **high temperature** for each day, and whether it's **hot, warm, or cold** (based on what temperatures you think are hot, warm or cold).\n",
    "\n",
    "- *Tip: You'll need to use an `if` statement to say whether it is hot, warm or cold.*"
   ]
  },
  {
   "cell_type": "code",
   "execution_count": 31,
   "metadata": {},
   "outputs": [],
   "source": [
    "response4 = requests.get(\"http://api.weatherapi.com/v1/forecast.json?key=API_KEY&q=rome&days=3\")\n",
    "three_day_forecast = response4.json()"
   ]
  },
  {
   "cell_type": "code",
   "execution_count": 34,
   "metadata": {},
   "outputs": [
    {
     "name": "stdout",
     "output_type": "stream",
     "text": [
      "2021-06-22\n",
      "The high is 93.2°F\n",
      "It's hot\n",
      "---\n",
      "2021-06-23\n",
      "The high is 91.6°F\n",
      "It's hot\n",
      "---\n",
      "2021-06-24\n",
      "The high is 90.7°F\n",
      "It's hot\n",
      "---\n"
     ]
    }
   ],
   "source": [
    "for each_day in three_day_forecast['forecast']['forecastday']:\n",
    "    print(each_day['date'])\n",
    "    day_high = (each_day['day']['maxtemp_f'])\n",
    "    print(f\"The high is {day_high}°F\")\n",
    "    if 50 <= day_high <= 80:\n",
    "        print(\"It's warm\")\n",
    "    elif day_high > 80:\n",
    "        print(f\"It's hot\")\n",
    "    elif day_high < 50:\n",
    "        print(f\"It's cold\")\n",
    "    print(\"---\")"
   ]
  },
  {
   "cell_type": "code",
   "execution_count": null,
   "metadata": {},
   "outputs": [],
   "source": []
  },
  {
   "cell_type": "code",
   "execution_count": null,
   "metadata": {},
   "outputs": [],
   "source": []
  },
  {
   "cell_type": "markdown",
   "metadata": {},
   "source": [
    "# 6) What will be the hottest day in the next week? What is the high temperature on that day?"
   ]
  },
  {
   "cell_type": "code",
   "execution_count": 37,
   "metadata": {},
   "outputs": [
    {
     "name": "stdout",
     "output_type": "stream",
     "text": [
      "The hottest day in the three-day forecast is 2021-06-22 with a high of 93.2°F\n"
     ]
    }
   ],
   "source": [
    "highest_temp = 0\n",
    "for each_day in three_day_forecast['forecast']['forecastday']:\n",
    "    day_high = (each_day['day']['maxtemp_f'])\n",
    "    if (day_high > highest_temp):\n",
    "        highest_temp = day_high\n",
    "        hottest_day = each_day['date']\n",
    "print(f\"The hottest day in the three-day forecast is {hottest_day} with a high of {highest_temp}°F\")"
   ]
  },
  {
   "cell_type": "code",
   "execution_count": null,
   "metadata": {
    "collapsed": true
   },
   "outputs": [],
   "source": []
  },
  {
   "cell_type": "markdown",
   "metadata": {},
   "source": [
    "## 7) What's the weather looking like for the next 24+ hours in Miami, Florida?\n",
    "\n",
    "I'd like to know the temperature for every hour, and if it's going to have cloud cover of more than 50% say \"{temperature} and cloudy\" instead of just the temperature. \n",
    "\n",
    "- *Tip: You'll only need one day of forecast*"
   ]
  },
  {
   "cell_type": "code",
   "execution_count": 39,
   "metadata": {},
   "outputs": [
    {
     "name": "stdout",
     "output_type": "stream",
     "text": [
      "2021-06-22 00:00\n",
      "It is 84.2°F\n",
      "---\n",
      "2021-06-22 01:00\n",
      "It is 84.2°F\n",
      "---\n",
      "2021-06-22 02:00\n",
      "It is 84.0°F\n",
      "---\n",
      "2021-06-22 03:00\n",
      "It is 83.7°F\n",
      "---\n",
      "2021-06-22 04:00\n",
      "It is 83.1°F\n",
      "---\n",
      "2021-06-22 05:00\n",
      "It is 82.8°F and cloudy\n",
      "---\n",
      "2021-06-22 06:00\n",
      "It is 82.9°F and cloudy\n",
      "---\n",
      "2021-06-22 07:00\n",
      "---\n",
      "2021-06-22 08:00\n",
      "It is 83.3°F\n",
      "---\n",
      "2021-06-22 09:00\n",
      "It is 83.7°F\n",
      "---\n",
      "2021-06-22 10:00\n",
      "It is 84.2°F\n",
      "---\n",
      "2021-06-22 11:00\n",
      "It is 84.6°F\n",
      "---\n",
      "2021-06-22 12:00\n",
      "It is 84.9°F\n",
      "---\n",
      "2021-06-22 13:00\n",
      "It is 85.1°F\n",
      "---\n",
      "2021-06-22 14:00\n",
      "It is 85.5°F\n",
      "---\n",
      "2021-06-22 15:00\n",
      "It is 85.5°F\n",
      "---\n",
      "2021-06-22 16:00\n",
      "It is 85.6°F\n",
      "---\n",
      "2021-06-22 17:00\n",
      "It is 85.6°F\n",
      "---\n",
      "2021-06-22 18:00\n",
      "It is 85.3°F\n",
      "---\n",
      "2021-06-22 19:00\n",
      "It is 84.9°F\n",
      "---\n",
      "2021-06-22 20:00\n",
      "It is 84.6°F\n",
      "---\n",
      "2021-06-22 21:00\n",
      "It is 84.4°F\n",
      "---\n",
      "2021-06-22 22:00\n",
      "It is 84.2°F and cloudy\n",
      "---\n",
      "2021-06-22 23:00\n",
      "It is 84.0°F and cloudy\n",
      "---\n"
     ]
    }
   ],
   "source": [
    "response5 = requests.get(\"http://api.weatherapi.com/v1/forecast.json?key=API_KEY&q=miami\")\n",
    "miami = response5.json()\n",
    "for each_hour in miami['forecast']['forecastday'][0]['hour']:\n",
    "    print(each_hour['time'])\n",
    "    if each_hour['cloud'] > 50:\n",
    "        print(f\"It is {each_hour['temp_f']}°F and cloudy\")\n",
    "    elif each_hour['cloud'] < 50:\n",
    "        print(f\"It is {each_hour['temp_f']}°F\")\n",
    "    print(\"---\")"
   ]
  },
  {
   "cell_type": "code",
   "execution_count": 40,
   "metadata": {},
   "outputs": [
    {
     "name": "stdout",
     "output_type": "stream",
     "text": [
      "The temperature is above 85°F for 25 percent of the time in the next 24-ish hours\n"
     ]
    }
   ],
   "source": [
    "temp_count = 0\n",
    "for each_hour in miami['forecast']['forecastday'][0]['hour']:\n",
    "    if each_hour['temp_f'] > 85:\n",
    "        temp_count += 1\n",
    "percent = round((temp_count / 24) * 100)\n",
    "print(f\"The temperature is above 85°F for {percent} percent of the time in the next 24-ish hours\")"
   ]
  },
  {
   "cell_type": "code",
   "execution_count": null,
   "metadata": {
    "collapsed": true
   },
   "outputs": [],
   "source": []
  },
  {
   "cell_type": "markdown",
   "metadata": {},
   "source": [
    "## 9) What was the temperature in Central Park on Christmas Day, 2020? How about 2012? 2007? How far back does the API allow you to go?\n",
    "\n",
    "- *Tip: You'll need to use latitude/longitude. You can ask Google where Central Park is, it knows*\n",
    "- *Tip: Remember when latitude/longitude might use negative numbers*"
   ]
  },
  {
   "cell_type": "code",
   "execution_count": null,
   "metadata": {
    "collapsed": true
   },
   "outputs": [],
   "source": []
  },
  {
   "cell_type": "code",
   "execution_count": null,
   "metadata": {
    "collapsed": true
   },
   "outputs": [],
   "source": []
  }
 ],
 "metadata": {
  "kernelspec": {
   "display_name": "Python 3",
   "language": "python",
   "name": "python3"
  },
  "language_info": {
   "codemirror_mode": {
    "name": "ipython",
    "version": 3
   },
   "file_extension": ".py",
   "mimetype": "text/x-python",
   "name": "python",
   "nbconvert_exporter": "python",
   "pygments_lexer": "ipython3",
   "version": "3.8.10"
  }
 },
 "nbformat": 4,
 "nbformat_minor": 1
}
